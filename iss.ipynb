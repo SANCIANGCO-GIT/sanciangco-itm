{
 "cells": [
  {
   "cell_type": "code",
   "execution_count": null,
   "id": "0ea0772e-3dd5-4416-90a1-f32c6de721cd",
   "metadata": {},
   "outputs": [],
   "source": [
    "import requests\n",
    "import time\n",
    "import matplotlib.pyplot as plt\n",
    "\n",
    "latitudes =[]\n",
    "longitudes=[]\n",
    "timestamps=[]\n",
    "for i in range(100):\n",
    "    response = requests.get(\"https://api.wheretheiss.at/v1/satellites/25544\")\n",
    "    res_json = response.json()\n",
    "    latitude_n = res_json['latitude']\n",
    "    longitude_n = res_json['longitude']\n",
    "    timestamp_n = res_json['timestamp']\n",
    "    latitudes.append(latitude_n)\n",
    "    longitudes.append(longitude_n)\n",
    "    timestamps.append(timestamp_n)\n",
    "    time.sleep(10)\n",
    "    \n",
    "plt.figure(figsize=(16,9))\n",
    "plt.plot(longitudes,latitudes, color = 'r', linestyle='-', linewidth = 3, marker='o', markerfacecolor='black', markersize = 5)\n",
    "plt.xlabel(\"Longitude\")\n",
    "plt.ylabel(\"Latitude\")\n",
    "plt.title(\"Location of the ISS\")\n",
    "plt.grid(True)\n",
    "for long, lat, timelapses in zip(longitudes, latitudes, timestamps):\n",
    "    plt.text(long, lat, timelapses, fontsize = 6, ha = 'right', color = 'gray') \n",
    "\n",
    "plt.show()"
   ]
  }
 ],
 "metadata": {
  "kernelspec": {
   "display_name": "Python [conda env:base] *",
   "language": "python",
   "name": "conda-base-py"
  },
  "language_info": {
   "codemirror_mode": {
    "name": "ipython",
    "version": 3
   },
   "file_extension": ".py",
   "mimetype": "text/x-python",
   "name": "python",
   "nbconvert_exporter": "python",
   "pygments_lexer": "ipython3",
   "version": "3.12.7"
  }
 },
 "nbformat": 4,
 "nbformat_minor": 5
}
