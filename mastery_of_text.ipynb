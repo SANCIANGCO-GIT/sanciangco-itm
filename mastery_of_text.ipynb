{
 "cells": [
  {
   "cell_type": "code",
   "execution_count": 1,
   "id": "c86988a6-1901-4235-bd8b-dd48ae10c7e2",
   "metadata": {},
   "outputs": [
    {
     "name": "stdout",
     "output_type": "stream",
     "text": [
      "Total lines: 99968\n",
      "the total words =795206\n",
      "total amount of apostle (given words like 'apostles' being counted)113\n",
      "total amount of words that is exactly apostle is: 47\n",
      "The most common word is:the\n"
     ]
    }
   ],
   "source": [
    "#save urllib as pg10\n",
    "import urllib.request\n",
    "with urllib.request.urlopen('https://www.gutenberg.org/cache/epub/10/pg10.txt') as f:\n",
    "    pg10 = f.read().decode('utf-8')\n",
    "    line_count = pg10.count('\\n')\n",
    "    print(\"Total lines:\", line_count)\n",
    "\n",
    "#Total words\n",
    "alphabet =\"ABCDEFGHIJKLMNOPQRSTUVWXYZabcdefghijklmnopqrstuvwxyz\"\n",
    "words = []\n",
    "current_word =''\n",
    "for i in pg10:\n",
    "    if i in alphabet or i== \"'\" or i=='-':\n",
    "        current_word +=i\n",
    "    else:\n",
    "        if current_word:\n",
    "            cleaned= current_word.lower().rstrip(\".,;!?\")\n",
    "            words.append(cleaned)\n",
    "            current_word =''\n",
    "if current_word:\n",
    "    words.append(current_word)\n",
    "print(f\"the total words ={len(words)}\")\n",
    "\n",
    "#total amount of apostle\n",
    "#The total number if apostle means that it includes words likes \"apostles\" that has apostle but not exactly apostle\n",
    "apostle_counter_1 =0\n",
    "for i in range(len(words)):\n",
    "        if \"apostle\" in words[i]:\n",
    "            apostle_counter_1 +=1\n",
    "print(f\"total amount of apostle (given words like 'apostles' being counted){apostle_counter_1}\")\n",
    "#total number of words that are exactly 'apostle'\n",
    "apostle_counter =0\n",
    "for i in words:\n",
    "    if i == \"apostle\":\n",
    "        apostle_counter+=1\n",
    "print(f\"total amount of words that is exactly apostle is: {apostle_counter}\")\n",
    "\n",
    "#most common word\n",
    "word_tally ={}\n",
    "for word in words:\n",
    "    if word in word_tally:\n",
    "        word_tally[word]+=1\n",
    "    else:\n",
    "        word_tally[word]=1\n",
    "most_word= max(word_tally.values())\n",
    "for i,j in word_tally.items():\n",
    "    if j==most_word:\n",
    "        print(f\"The most common word is:{i}\")"
   ]
  },
  {
   "cell_type": "code",
   "execution_count": null,
   "id": "c696b551-ae20-4299-adde-02bc2bad4138",
   "metadata": {},
   "outputs": [],
   "source": []
  },
  {
   "cell_type": "code",
   "execution_count": null,
   "id": "99cc2772-1d39-4372-a53e-fbaa3afa37f7",
   "metadata": {},
   "outputs": [],
   "source": []
  }
 ],
 "metadata": {
  "kernelspec": {
   "display_name": "Python [conda env:base] *",
   "language": "python",
   "name": "conda-base-py"
  },
  "language_info": {
   "codemirror_mode": {
    "name": "ipython",
    "version": 3
   },
   "file_extension": ".py",
   "mimetype": "text/x-python",
   "name": "python",
   "nbconvert_exporter": "python",
   "pygments_lexer": "ipython3",
   "version": "3.12.7"
  }
 },
 "nbformat": 4,
 "nbformat_minor": 5
}
